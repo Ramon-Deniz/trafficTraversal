{
 "cells": [
  {
   "cell_type": "markdown",
   "metadata": {},
   "source": [
    "# Project plan\n",
    "\n",
    "### 1. Introduction\n",
    "A brief description of the project?\n",
    "The goal of the project?\n",
    "\n",
    "#### A:\n",
    "Create a program that can find the fastest route for a taxi within a city. It will take into consideration speed limits and time contstraints. The goal of the project is to mimic Google Maps and visualize how routes are created when there are many factors to account for.\n",
    "\n",
    "### 2. Method\n",
    "Python library or functions you might use?\n",
    "\n",
    "#### A:\n",
    "Geopandas for the map visualization and some other libraries to support zoom in/out functionality and scrolling.\n",
    "\n",
    "### 3. Plan\n",
    "Step 1: Retrieve city datasets (shapefiles, geotiff files, etc.)\n",
    "\n",
    "Step 2: Create an algorithm to calculate routes with speed/time constraints (A* or Dijkstra's)\n",
    "\n",
    "Step 3: Plot the routes and map using Geopandas and add other graphical functionality(zoom in/out, scrolling)\n",
    "\n"
   ]
  }
 ],
 "metadata": {
  "kernelspec": {
   "display_name": "Python 3",
   "language": "python",
   "name": "python3"
  },
  "language_info": {
   "codemirror_mode": {
    "name": "ipython",
    "version": 3
   },
   "file_extension": ".py",
   "mimetype": "text/x-python",
   "name": "python",
   "nbconvert_exporter": "python",
   "pygments_lexer": "ipython3",
   "version": "3.6.5"
  }
 },
 "nbformat": 4,
 "nbformat_minor": 2
}
